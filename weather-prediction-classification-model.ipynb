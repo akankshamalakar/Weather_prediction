{
 "cells": [
  {
   "cell_type": "code",
   "execution_count": 1,
   "id": "eade0fe4",
   "metadata": {
    "execution": {
     "iopub.execute_input": "2022-02-06T16:22:57.337675Z",
     "iopub.status.busy": "2022-02-06T16:22:57.336979Z",
     "iopub.status.idle": "2022-02-06T16:22:58.326808Z",
     "shell.execute_reply": "2022-02-06T16:22:58.326260Z",
     "shell.execute_reply.started": "2022-02-06T16:22:11.244216Z"
    },
    "papermill": {
     "duration": 1.033575,
     "end_time": "2022-02-06T16:22:58.326946",
     "exception": false,
     "start_time": "2022-02-06T16:22:57.293371",
     "status": "completed"
    },
    "tags": []
   },
   "outputs": [],
   "source": [
    "#Import the libraries\n",
    "import numpy as np\n",
    "import pandas as pd\n",
    "import matplotlib.pyplot as plt\n",
    "import seaborn as sns"
   ]
  },
  {
   "cell_type": "code",
   "execution_count": 2,
   "id": "f4c3af4f",
   "metadata": {
    "execution": {
     "iopub.execute_input": "2022-02-06T16:22:58.410548Z",
     "iopub.status.busy": "2022-02-06T16:22:58.409855Z",
     "iopub.status.idle": "2022-02-06T16:22:58.424832Z",
     "shell.execute_reply": "2022-02-06T16:22:58.425416Z",
     "shell.execute_reply.started": "2022-02-06T16:22:11.255589Z"
    },
    "papermill": {
     "duration": 0.059255,
     "end_time": "2022-02-06T16:22:58.425588",
     "exception": false,
     "start_time": "2022-02-06T16:22:58.366333",
     "status": "completed"
    },
    "tags": []
   },
   "outputs": [],
   "source": [
    "#Load the dataset\n",
    "data = pd.read_csv(\"seattle-weather.csv\")"
   ]
  },
  {
   "cell_type": "code",
   "execution_count": 3,
   "id": "82c38e9e",
   "metadata": {
    "execution": {
     "iopub.execute_input": "2022-02-06T16:22:58.523196Z",
     "iopub.status.busy": "2022-02-06T16:22:58.522369Z",
     "iopub.status.idle": "2022-02-06T16:22:58.538335Z",
     "shell.execute_reply": "2022-02-06T16:22:58.538891Z",
     "shell.execute_reply.started": "2022-02-06T16:22:11.272030Z"
    },
    "papermill": {
     "duration": 0.074322,
     "end_time": "2022-02-06T16:22:58.539094",
     "exception": false,
     "start_time": "2022-02-06T16:22:58.464772",
     "status": "completed"
    },
    "tags": []
   },
   "outputs": [
    {
     "data": {
      "text/html": [
       "<div>\n",
       "<style scoped>\n",
       "    .dataframe tbody tr th:only-of-type {\n",
       "        vertical-align: middle;\n",
       "    }\n",
       "\n",
       "    .dataframe tbody tr th {\n",
       "        vertical-align: top;\n",
       "    }\n",
       "\n",
       "    .dataframe thead th {\n",
       "        text-align: right;\n",
       "    }\n",
       "</style>\n",
       "<table border=\"1\" class=\"dataframe\">\n",
       "  <thead>\n",
       "    <tr style=\"text-align: right;\">\n",
       "      <th></th>\n",
       "      <th>date</th>\n",
       "      <th>precipitation</th>\n",
       "      <th>temp_max</th>\n",
       "      <th>temp_min</th>\n",
       "      <th>wind</th>\n",
       "      <th>weather</th>\n",
       "    </tr>\n",
       "  </thead>\n",
       "  <tbody>\n",
       "    <tr>\n",
       "      <th>0</th>\n",
       "      <td>2012-01-01</td>\n",
       "      <td>0.0</td>\n",
       "      <td>12.8</td>\n",
       "      <td>5.0</td>\n",
       "      <td>4.7</td>\n",
       "      <td>drizzle</td>\n",
       "    </tr>\n",
       "    <tr>\n",
       "      <th>1</th>\n",
       "      <td>2012-01-02</td>\n",
       "      <td>10.9</td>\n",
       "      <td>10.6</td>\n",
       "      <td>2.8</td>\n",
       "      <td>4.5</td>\n",
       "      <td>rain</td>\n",
       "    </tr>\n",
       "    <tr>\n",
       "      <th>2</th>\n",
       "      <td>2012-01-03</td>\n",
       "      <td>0.8</td>\n",
       "      <td>11.7</td>\n",
       "      <td>7.2</td>\n",
       "      <td>2.3</td>\n",
       "      <td>rain</td>\n",
       "    </tr>\n",
       "    <tr>\n",
       "      <th>3</th>\n",
       "      <td>2012-01-04</td>\n",
       "      <td>20.3</td>\n",
       "      <td>12.2</td>\n",
       "      <td>5.6</td>\n",
       "      <td>4.7</td>\n",
       "      <td>rain</td>\n",
       "    </tr>\n",
       "    <tr>\n",
       "      <th>4</th>\n",
       "      <td>2012-01-05</td>\n",
       "      <td>1.3</td>\n",
       "      <td>8.9</td>\n",
       "      <td>2.8</td>\n",
       "      <td>6.1</td>\n",
       "      <td>rain</td>\n",
       "    </tr>\n",
       "  </tbody>\n",
       "</table>\n",
       "</div>"
      ],
      "text/plain": [
       "         date  precipitation  temp_max  temp_min  wind  weather\n",
       "0  2012-01-01            0.0      12.8       5.0   4.7  drizzle\n",
       "1  2012-01-02           10.9      10.6       2.8   4.5     rain\n",
       "2  2012-01-03            0.8      11.7       7.2   2.3     rain\n",
       "3  2012-01-04           20.3      12.2       5.6   4.7     rain\n",
       "4  2012-01-05            1.3       8.9       2.8   6.1     rain"
      ]
     },
     "execution_count": 3,
     "metadata": {},
     "output_type": "execute_result"
    }
   ],
   "source": [
    "data.head()"
   ]
  },
  {
   "cell_type": "code",
   "execution_count": 4,
   "id": "6c8caabf",
   "metadata": {
    "execution": {
     "iopub.execute_input": "2022-02-06T16:22:58.629326Z",
     "iopub.status.busy": "2022-02-06T16:22:58.628466Z",
     "iopub.status.idle": "2022-02-06T16:22:58.641110Z",
     "shell.execute_reply": "2022-02-06T16:22:58.641525Z",
     "shell.execute_reply.started": "2022-02-06T16:22:11.288760Z"
    },
    "papermill": {
     "duration": 0.05758,
     "end_time": "2022-02-06T16:22:58.641689",
     "exception": false,
     "start_time": "2022-02-06T16:22:58.584109",
     "status": "completed"
    },
    "tags": []
   },
   "outputs": [
    {
     "data": {
      "text/html": [
       "<div>\n",
       "<style scoped>\n",
       "    .dataframe tbody tr th:only-of-type {\n",
       "        vertical-align: middle;\n",
       "    }\n",
       "\n",
       "    .dataframe tbody tr th {\n",
       "        vertical-align: top;\n",
       "    }\n",
       "\n",
       "    .dataframe thead th {\n",
       "        text-align: right;\n",
       "    }\n",
       "</style>\n",
       "<table border=\"1\" class=\"dataframe\">\n",
       "  <thead>\n",
       "    <tr style=\"text-align: right;\">\n",
       "      <th></th>\n",
       "      <th>date</th>\n",
       "      <th>precipitation</th>\n",
       "      <th>temp_max</th>\n",
       "      <th>temp_min</th>\n",
       "      <th>wind</th>\n",
       "      <th>weather</th>\n",
       "    </tr>\n",
       "  </thead>\n",
       "  <tbody>\n",
       "    <tr>\n",
       "      <th>1456</th>\n",
       "      <td>2015-12-27</td>\n",
       "      <td>8.6</td>\n",
       "      <td>4.4</td>\n",
       "      <td>1.7</td>\n",
       "      <td>2.9</td>\n",
       "      <td>rain</td>\n",
       "    </tr>\n",
       "    <tr>\n",
       "      <th>1457</th>\n",
       "      <td>2015-12-28</td>\n",
       "      <td>1.5</td>\n",
       "      <td>5.0</td>\n",
       "      <td>1.7</td>\n",
       "      <td>1.3</td>\n",
       "      <td>rain</td>\n",
       "    </tr>\n",
       "    <tr>\n",
       "      <th>1458</th>\n",
       "      <td>2015-12-29</td>\n",
       "      <td>0.0</td>\n",
       "      <td>7.2</td>\n",
       "      <td>0.6</td>\n",
       "      <td>2.6</td>\n",
       "      <td>fog</td>\n",
       "    </tr>\n",
       "    <tr>\n",
       "      <th>1459</th>\n",
       "      <td>2015-12-30</td>\n",
       "      <td>0.0</td>\n",
       "      <td>5.6</td>\n",
       "      <td>-1.0</td>\n",
       "      <td>3.4</td>\n",
       "      <td>sun</td>\n",
       "    </tr>\n",
       "    <tr>\n",
       "      <th>1460</th>\n",
       "      <td>2015-12-31</td>\n",
       "      <td>0.0</td>\n",
       "      <td>5.6</td>\n",
       "      <td>-2.1</td>\n",
       "      <td>3.5</td>\n",
       "      <td>sun</td>\n",
       "    </tr>\n",
       "  </tbody>\n",
       "</table>\n",
       "</div>"
      ],
      "text/plain": [
       "            date  precipitation  temp_max  temp_min  wind weather\n",
       "1456  2015-12-27            8.6       4.4       1.7   2.9    rain\n",
       "1457  2015-12-28            1.5       5.0       1.7   1.3    rain\n",
       "1458  2015-12-29            0.0       7.2       0.6   2.6     fog\n",
       "1459  2015-12-30            0.0       5.6      -1.0   3.4     sun\n",
       "1460  2015-12-31            0.0       5.6      -2.1   3.5     sun"
      ]
     },
     "execution_count": 4,
     "metadata": {},
     "output_type": "execute_result"
    }
   ],
   "source": [
    "data.tail()"
   ]
  },
  {
   "cell_type": "code",
   "execution_count": 5,
   "id": "ae987486",
   "metadata": {
    "execution": {
     "iopub.execute_input": "2022-02-06T16:22:58.727386Z",
     "iopub.status.busy": "2022-02-06T16:22:58.726513Z",
     "iopub.status.idle": "2022-02-06T16:22:58.748684Z",
     "shell.execute_reply": "2022-02-06T16:22:58.749375Z",
     "shell.execute_reply.started": "2022-02-06T16:22:11.306185Z"
    },
    "papermill": {
     "duration": 0.066477,
     "end_time": "2022-02-06T16:22:58.749594",
     "exception": false,
     "start_time": "2022-02-06T16:22:58.683117",
     "status": "completed"
    },
    "tags": []
   },
   "outputs": [
    {
     "name": "stdout",
     "output_type": "stream",
     "text": [
      "<class 'pandas.core.frame.DataFrame'>\n",
      "RangeIndex: 1461 entries, 0 to 1460\n",
      "Data columns (total 6 columns):\n",
      " #   Column         Non-Null Count  Dtype  \n",
      "---  ------         --------------  -----  \n",
      " 0   date           1461 non-null   object \n",
      " 1   precipitation  1461 non-null   float64\n",
      " 2   temp_max       1461 non-null   float64\n",
      " 3   temp_min       1461 non-null   float64\n",
      " 4   wind           1461 non-null   float64\n",
      " 5   weather        1461 non-null   object \n",
      "dtypes: float64(4), object(2)\n",
      "memory usage: 68.6+ KB\n"
     ]
    }
   ],
   "source": [
    "data.info()"
   ]
  },
  {
   "cell_type": "code",
   "execution_count": 6,
   "id": "454fea90",
   "metadata": {
    "execution": {
     "iopub.execute_input": "2022-02-06T16:22:58.838097Z",
     "iopub.status.busy": "2022-02-06T16:22:58.837430Z",
     "iopub.status.idle": "2022-02-06T16:22:58.842571Z",
     "shell.execute_reply": "2022-02-06T16:22:58.843100Z",
     "shell.execute_reply.started": "2022-02-06T16:22:11.320288Z"
    },
    "papermill": {
     "duration": 0.05167,
     "end_time": "2022-02-06T16:22:58.843271",
     "exception": false,
     "start_time": "2022-02-06T16:22:58.791601",
     "status": "completed"
    },
    "tags": []
   },
   "outputs": [
    {
     "data": {
      "text/plain": [
       "date             0\n",
       "precipitation    0\n",
       "temp_max         0\n",
       "temp_min         0\n",
       "wind             0\n",
       "weather          0\n",
       "dtype: int64"
      ]
     },
     "execution_count": 6,
     "metadata": {},
     "output_type": "execute_result"
    }
   ],
   "source": [
    "#Check for null values\n",
    "data.isnull().sum()\n",
    "#This sumups the total null values in each column "
   ]
  },
  {
   "cell_type": "code",
   "execution_count": 7,
   "id": "2c96aaea",
   "metadata": {
    "execution": {
     "iopub.execute_input": "2022-02-06T16:22:59.022091Z",
     "iopub.status.busy": "2022-02-06T16:22:59.021486Z",
     "iopub.status.idle": "2022-02-06T16:22:59.028558Z",
     "shell.execute_reply": "2022-02-06T16:22:59.029106Z",
     "shell.execute_reply.started": "2022-02-06T16:22:11.346708Z"
    },
    "papermill": {
     "duration": 0.052215,
     "end_time": "2022-02-06T16:22:59.029266",
     "exception": false,
     "start_time": "2022-02-06T16:22:58.977051",
     "status": "completed"
    },
    "tags": []
   },
   "outputs": [
    {
     "data": {
      "text/plain": [
       "date             1461\n",
       "precipitation     111\n",
       "temp_max           67\n",
       "temp_min           55\n",
       "wind               79\n",
       "weather             5\n",
       "dtype: int64"
      ]
     },
     "execution_count": 7,
     "metadata": {},
     "output_type": "execute_result"
    }
   ],
   "source": [
    "data.nunique()\n",
    "#prints number of unique values "
   ]
  },
  {
   "cell_type": "code",
   "execution_count": 8,
   "id": "1beec800",
   "metadata": {
    "execution": {
     "iopub.execute_input": "2022-02-06T16:22:59.115388Z",
     "iopub.status.busy": "2022-02-06T16:22:59.114488Z",
     "iopub.status.idle": "2022-02-06T16:22:59.344101Z",
     "shell.execute_reply": "2022-02-06T16:22:59.343597Z",
     "shell.execute_reply.started": "2022-02-06T16:22:11.361372Z"
    },
    "papermill": {
     "duration": 0.273616,
     "end_time": "2022-02-06T16:22:59.344241",
     "exception": false,
     "start_time": "2022-02-06T16:22:59.070625",
     "status": "completed"
    },
    "tags": []
   },
   "outputs": [
    {
     "data": {
      "image/png": "[encoded data removed]",
      "text/plain": [
       "<Figure size 720x360 with 1 Axes>"
      ]
     },
     "metadata": {
      "needs_background": "light"
     },
     "output_type": "display_data"
    }
   ],
   "source": [
    "#ploting the number of time's each event has happen rain ,sun ,snow,fog,dizzel\n",
    "plt.figure(figsize=(10,5))\n",
    "sns.set_theme()\n",
    "sns.countplot(x = 'weather',data = data,palette=\"ch:start=.2,rot=-.3\")\n",
    "plt.xlabel(\"weather\",fontweight='bold',size=13)\n",
    "plt.ylabel(\"Count\",fontweight='bold',size=13)\n",
    "plt.show()"
   ]
  },
  {
   "cell_type": "code",
   "execution_count": 9,
   "id": "7eb1bc2d",
   "metadata": {
    "execution": {
     "iopub.execute_input": "2022-02-06T16:23:09.384292Z",
     "iopub.status.busy": "2022-02-06T16:23:09.383603Z",
     "iopub.status.idle": "2022-02-06T16:23:09.385794Z",
     "shell.execute_reply": "2022-02-06T16:23:09.386270Z",
     "shell.execute_reply.started": "2022-02-06T16:22:20.230534Z"
    },
    "papermill": {
     "duration": 0.077556,
     "end_time": "2022-02-06T16:23:09.386437",
     "exception": false,
     "start_time": "2022-02-06T16:23:09.308881",
     "status": "completed"
    },
    "tags": []
   },
   "outputs": [],
   "source": [
    "data = data.drop('date',axis=1)"
   ]
  },
  {
   "cell_type": "code",
   "execution_count": 10,
   "id": "f61da3e1",
   "metadata": {
    "execution": {
     "iopub.execute_input": "2022-02-06T16:23:09.528821Z",
     "iopub.status.busy": "2022-02-06T16:23:09.527901Z",
     "iopub.status.idle": "2022-02-06T16:23:09.532568Z",
     "shell.execute_reply": "2022-02-06T16:23:09.532995Z",
     "shell.execute_reply.started": "2022-02-06T16:22:20.241692Z"
    },
    "papermill": {
     "duration": 0.077736,
     "end_time": "2022-02-06T16:23:09.533174",
     "exception": false,
     "start_time": "2022-02-06T16:23:09.455438",
     "status": "completed"
    },
    "tags": []
   },
   "outputs": [],
   "source": [
    "x = data.drop('weather',axis=1)\n",
    "y = data['weather']"
   ]
  },
  {
   "cell_type": "markdown",
   "id": "479702ae",
   "metadata": {
    "papermill": {
     "duration": 0.069251,
     "end_time": "2022-02-06T16:23:09.673815",
     "exception": false,
     "start_time": "2022-02-06T16:23:09.604564",
     "status": "completed"
    },
    "tags": []
   },
   "source": [
    "# Split the dataset into train and test"
   ]
  },
  {
   "cell_type": "code",
   "execution_count": 11,
   "id": "d685e51b",
   "metadata": {
    "execution": {
     "iopub.execute_input": "2022-02-06T16:23:09.817178Z",
     "iopub.status.busy": "2022-02-06T16:23:09.816307Z",
     "iopub.status.idle": "2022-02-06T16:23:09.867760Z",
     "shell.execute_reply": "2022-02-06T16:23:09.868235Z",
     "shell.execute_reply.started": "2022-02-06T16:22:20.252897Z"
    },
    "papermill": {
     "duration": 0.125639,
     "end_time": "2022-02-06T16:23:09.868410",
     "exception": false,
     "start_time": "2022-02-06T16:23:09.742771",
     "status": "completed"
    },
    "tags": []
   },
   "outputs": [],
   "source": [
    "from sklearn.model_selection import train_test_split\n",
    "X_train, X_test, y_train, y_test = train_test_split(x, y, test_size = 0.25, random_state = 0)"
   ]
  },
  {
   "cell_type": "code",
   "execution_count": 12,
   "id": "064ebdba",
   "metadata": {
    "execution": {
     "iopub.execute_input": "2022-02-06T16:23:10.014084Z",
     "iopub.status.busy": "2022-02-06T16:23:10.013183Z",
     "iopub.status.idle": "2022-02-06T16:23:10.017091Z",
     "shell.execute_reply": "2022-02-06T16:23:10.017903Z",
     "shell.execute_reply.started": "2022-02-06T16:22:20.265679Z"
    },
    "papermill": {
     "duration": 0.080632,
     "end_time": "2022-02-06T16:23:10.018177",
     "exception": false,
     "start_time": "2022-02-06T16:23:09.937545",
     "status": "completed"
    },
    "tags": []
   },
   "outputs": [
    {
     "name": "stdout",
     "output_type": "stream",
     "text": [
      "(1095, 4)\n",
      "(366, 4)\n",
      "(1095,)\n",
      "(366,)\n"
     ]
    }
   ],
   "source": [
    "print(X_train.shape)\n",
    "print(X_test.shape)\n",
    "print(y_train.shape)\n",
    "print(y_test.shape)"
   ]
  },
  {
   "cell_type": "markdown",
   "id": "43e7f0d5",
   "metadata": {
    "papermill": {
     "duration": 0.07073,
     "end_time": "2022-02-06T16:23:10.161945",
     "exception": false,
     "start_time": "2022-02-06T16:23:10.091215",
     "status": "completed"
    },
    "tags": []
   },
   "source": [
    "# Feature Scaling"
   ]
  },
  {
   "cell_type": "code",
   "execution_count": 13,
   "id": "a5a57b48",
   "metadata": {
    "execution": {
     "iopub.execute_input": "2022-02-06T16:23:10.304854Z",
     "iopub.status.busy": "2022-02-06T16:23:10.304296Z",
     "iopub.status.idle": "2022-02-06T16:23:10.312187Z",
     "shell.execute_reply": "2022-02-06T16:23:10.312662Z",
     "shell.execute_reply.started": "2022-02-06T16:22:20.275024Z"
    },
    "papermill": {
     "duration": 0.08093,
     "end_time": "2022-02-06T16:23:10.312824",
     "exception": false,
     "start_time": "2022-02-06T16:23:10.231894",
     "status": "completed"
    },
    "tags": []
   },
   "outputs": [],
   "source": [
    "from sklearn.preprocessing import StandardScaler\n",
    "sc = StandardScaler()\n",
    "X_train = sc.fit_transform(X_train)\n",
    "X_test = sc.transform(X_test)\n",
    "# Here sc is object of standardsacler class and it transforms values of infinite range to a limitting range jaisa activation function karta tha "
   ]
  },
  {
   "cell_type": "markdown",
   "id": "d5805465",
   "metadata": {
    "papermill": {
     "duration": 0.069008,
     "end_time": "2022-02-06T16:23:10.451259",
     "exception": false,
     "start_time": "2022-02-06T16:23:10.382251",
     "status": "completed"
    },
    "tags": []
   },
   "source": [
    "# Logistic Regression"
   ]
  },
  {
   "cell_type": "code",
   "execution_count": 14,
   "id": "f365be0e",
   "metadata": {
    "execution": {
     "iopub.execute_input": "2022-02-06T16:23:10.601185Z",
     "iopub.status.busy": "2022-02-06T16:23:10.600215Z",
     "iopub.status.idle": "2022-02-06T16:23:10.735640Z",
     "shell.execute_reply": "2022-02-06T16:23:10.735144Z",
     "shell.execute_reply.started": "2022-02-06T16:22:20.288994Z"
    },
    "papermill": {
     "duration": 0.215391,
     "end_time": "2022-02-06T16:23:10.735776",
     "exception": false,
     "start_time": "2022-02-06T16:23:10.520385",
     "status": "completed"
    },
    "tags": []
   },
   "outputs": [
    {
     "data": {
      "text/plain": [
       "LogisticRegression(random_state=0)"
      ]
     },
     "execution_count": 14,
     "metadata": {},
     "output_type": "execute_result"
    }
   ],
   "source": [
    "from sklearn.linear_model import LogisticRegression\n",
    "classifier = LogisticRegression(random_state = 0)#logisitic regression model ko call kiya and ensure kiya ki no randomness\n",
    "classifier.fit(X_train, y_train)#logistic main data ko train kar rahe hain "
   ]
  },
  {
   "cell_type": "code",
   "execution_count": 15,
   "id": "1af0b1b5",
   "metadata": {
    "execution": {
     "iopub.execute_input": "2022-02-06T16:23:10.880317Z",
     "iopub.status.busy": "2022-02-06T16:23:10.878965Z",
     "iopub.status.idle": "2022-02-06T16:23:10.882713Z",
     "shell.execute_reply": "2022-02-06T16:23:10.883143Z",
     "shell.execute_reply.started": "2022-02-06T16:22:20.339312Z"
    },
    "papermill": {
     "duration": 0.0778,
     "end_time": "2022-02-06T16:23:10.883307",
     "exception": false,
     "start_time": "2022-02-06T16:23:10.805507",
     "status": "completed"
    },
    "tags": []
   },
   "outputs": [],
   "source": [
    "y_pred = classifier.predict(X_test)"
   ]
  },
  {
   "cell_type": "code",
   "execution_count": 16,
   "id": "87517eec",
   "metadata": {
    "execution": {
     "iopub.execute_input": "2022-02-06T16:23:11.026925Z",
     "iopub.status.busy": "2022-02-06T16:23:11.026351Z",
     "iopub.status.idle": "2022-02-06T16:23:11.031107Z",
     "shell.execute_reply": "2022-02-06T16:23:11.031537Z",
     "shell.execute_reply.started": "2022-02-06T16:22:20.345284Z"
    },
    "papermill": {
     "duration": 0.07826,
     "end_time": "2022-02-06T16:23:11.031688",
     "exception": false,
     "start_time": "2022-02-06T16:23:10.953428",
     "status": "completed"
    },
    "tags": []
   },
   "outputs": [
    {
     "data": {
      "text/plain": [
       "array(['sun', 'rain', 'rain', 'sun', 'sun', 'rain', 'rain', 'rain', 'sun',\n",
       "       'sun', 'sun', 'rain', 'sun', 'sun', 'sun', 'sun', 'sun', 'rain',\n",
       "       'rain', 'rain', 'rain', 'rain', 'rain', 'sun', 'sun', 'sun', 'sun',\n",
       "       'rain', 'sun', 'sun', 'rain', 'sun', 'rain', 'rain', 'rain',\n",
       "       'rain', 'sun', 'rain', 'sun', 'rain', 'sun', 'rain', 'rain',\n",
       "       'rain', 'sun', 'sun', 'sun', 'sun', 'sun', 'sun', 'sun', 'sun',\n",
       "       'sun', 'rain', 'sun', 'sun', 'sun', 'rain', 'sun', 'rain', 'sun',\n",
       "       'sun', 'sun', 'sun', 'sun', 'rain', 'sun', 'sun', 'sun', 'rain',\n",
       "       'rain', 'rain', 'rain', 'sun', 'sun', 'sun', 'sun', 'sun', 'rain',\n",
       "       'sun', 'sun', 'sun', 'rain', 'rain', 'rain', 'sun', 'sun', 'rain',\n",
       "       'sun', 'sun', 'sun', 'sun', 'rain', 'sun', 'rain', 'rain', 'sun',\n",
       "       'sun', 'sun', 'sun', 'rain', 'rain', 'sun', 'rain', 'rain', 'sun',\n",
       "       'rain', 'rain', 'sun', 'sun', 'rain', 'sun', 'rain', 'sun', 'sun',\n",
       "       'sun', 'sun', 'rain', 'rain', 'rain', 'sun', 'rain', 'sun', 'sun',\n",
       "       'sun', 'sun', 'sun', 'sun', 'sun', 'rain', 'sun', 'rain', 'sun',\n",
       "       'rain', 'rain', 'rain', 'sun', 'rain', 'sun', 'sun', 'rain',\n",
       "       'rain', 'sun', 'sun', 'sun', 'sun', 'rain', 'sun', 'sun', 'sun',\n",
       "       'sun', 'sun', 'sun', 'rain', 'sun', 'rain', 'sun', 'sun', 'sun',\n",
       "       'sun', 'sun', 'rain', 'rain', 'rain', 'rain', 'rain', 'sun',\n",
       "       'rain', 'rain', 'rain', 'sun', 'sun', 'sun', 'sun', 'rain', 'rain',\n",
       "       'sun', 'sun', 'sun', 'sun', 'sun', 'sun', 'rain', 'sun', 'rain',\n",
       "       'sun', 'sun', 'rain', 'rain', 'sun', 'sun', 'sun', 'sun', 'sun',\n",
       "       'rain', 'rain', 'sun', 'rain', 'sun', 'sun', 'rain', 'rain', 'sun',\n",
       "       'sun', 'rain', 'sun', 'rain', 'sun', 'sun', 'rain', 'rain', 'rain',\n",
       "       'rain', 'rain', 'sun', 'sun', 'sun', 'rain', 'rain', 'rain', 'sun',\n",
       "       'sun', 'sun', 'rain', 'sun', 'sun', 'sun', 'sun', 'sun', 'sun',\n",
       "       'rain', 'rain', 'rain', 'rain', 'rain', 'sun', 'rain', 'sun',\n",
       "       'rain', 'rain', 'sun', 'rain', 'sun', 'rain', 'rain', 'sun', 'sun',\n",
       "       'sun', 'sun', 'sun', 'sun', 'sun', 'rain', 'rain', 'sun', 'sun',\n",
       "       'sun', 'sun', 'sun', 'sun', 'rain', 'rain', 'sun', 'sun', 'sun',\n",
       "       'rain', 'sun', 'rain', 'sun', 'rain', 'sun', 'sun', 'rain', 'rain',\n",
       "       'sun', 'sun', 'sun', 'sun', 'rain', 'sun', 'rain', 'rain', 'rain',\n",
       "       'sun', 'sun', 'sun', 'sun', 'sun', 'rain', 'sun', 'sun', 'rain',\n",
       "       'sun', 'rain', 'sun', 'rain', 'rain', 'sun', 'rain', 'sun', 'rain',\n",
       "       'sun', 'sun', 'sun', 'rain', 'sun', 'sun', 'rain', 'rain', 'sun',\n",
       "       'rain', 'sun', 'rain', 'rain', 'sun', 'sun', 'rain', 'rain',\n",
       "       'rain', 'sun', 'rain', 'sun', 'rain', 'rain', 'sun', 'sun', 'rain',\n",
       "       'rain', 'rain', 'sun', 'sun', 'rain', 'sun', 'sun', 'rain', 'rain',\n",
       "       'sun', 'sun', 'rain', 'sun', 'rain', 'sun', 'sun', 'rain', 'sun',\n",
       "       'rain', 'rain', 'rain', 'sun', 'rain', 'sun', 'sun', 'sun', 'sun',\n",
       "       'sun', 'sun', 'rain', 'rain', 'sun', 'sun', 'sun', 'rain', 'sun',\n",
       "       'rain', 'rain', 'sun'], dtype=object)"
      ]
     },
     "execution_count": 16,
     "metadata": {},
     "output_type": "execute_result"
    }
   ],
   "source": [
    "y_pred"
   ]
  },
  {
   "cell_type": "code",
   "execution_count": 17,
   "id": "f6a76105",
   "metadata": {
    "execution": {
     "iopub.execute_input": "2022-02-06T16:23:11.180303Z",
     "iopub.status.busy": "2022-02-06T16:23:11.178219Z",
     "iopub.status.idle": "2022-02-06T16:23:11.182504Z",
     "shell.execute_reply": "2022-02-06T16:23:11.182920Z",
     "shell.execute_reply.started": "2022-02-06T16:22:20.357705Z"
    },
    "papermill": {
     "duration": 0.080798,
     "end_time": "2022-02-06T16:23:11.183127",
     "exception": false,
     "start_time": "2022-02-06T16:23:11.102329",
     "status": "completed"
    },
    "tags": []
   },
   "outputs": [
    {
     "name": "stdout",
     "output_type": "stream",
     "text": [
      "[[  0   0   0   0  11]\n",
      " [  0   0   3   0  28]\n",
      " [  0   0 130   0  25]\n",
      " [  0   0   6   0   0]\n",
      " [  0   0  14   0 149]]\n"
     ]
    }
   ],
   "source": [
    "from sklearn.metrics import confusion_matrix, accuracy_score\n",
    "cm = confusion_matrix(y_test, y_pred)#ise confusion mattrix kehte hain number true positive and true negative and false positive ke plotting main help karta hain\n",
    "print(cm)"
   ]
  },
  {
   "cell_type": "code",
   "execution_count": 18,
   "id": "ba0957f3",
   "metadata": {
    "execution": {
     "iopub.execute_input": "2022-02-06T16:23:11.347394Z",
     "iopub.status.busy": "2022-02-06T16:23:11.342908Z",
     "iopub.status.idle": "2022-02-06T16:23:11.616071Z",
     "shell.execute_reply": "2022-02-06T16:23:11.615559Z",
     "shell.execute_reply.started": "2022-02-06T16:22:20.368747Z"
    },
    "papermill": {
     "duration": 0.363076,
     "end_time": "2022-02-06T16:23:11.616226",
     "exception": false,
     "start_time": "2022-02-06T16:23:11.253150",
     "status": "completed"
    },
    "tags": []
   },
   "outputs": [
    {
     "data": {
      "image/png": "[encoded data removed]",
      "text/plain": [
       "<Figure size 432x288 with 2 Axes>"
      ]
     },
     "metadata": {},
     "output_type": "display_data"
    }
   ],
   "source": [
    "sns.heatmap(cm,annot=True)#heighest value heat map ki 140 hogi kunki hamra confussion mattrix heighest 140 kar rha hain\n",
    "plt.show()"
   ]
  },
  {
   "cell_type": "code",
   "execution_count": 20,
   "id": "ca54a790",
   "metadata": {
    "execution": {
     "iopub.execute_input": "2022-02-06T16:23:11.830759Z",
     "iopub.status.busy": "2022-02-06T16:23:11.829904Z",
     "iopub.status.idle": "2022-02-06T16:23:11.834387Z",
     "shell.execute_reply": "2022-02-06T16:23:11.834902Z",
     "shell.execute_reply.started": "2022-02-06T16:22:20.659497Z"
    },
    "papermill": {
     "duration": 0.1477,
     "end_time": "2022-02-06T16:23:11.835099",
     "exception": false,
     "start_time": "2022-02-06T16:23:11.687399",
     "status": "completed"
    },
    "tags": []
   },
   "outputs": [
    {
     "name": "stdout",
     "output_type": "stream",
     "text": [
      "Accuracy score: 0.7622950819672131\n"
     ]
    }
   ],
   "source": [
    "acc1 = accuracy_score(y_test, y_pred)\n",
    "print(f\"Accuracy score: {acc1}\")#accuracy score ko save karliya hamne "
   ]
  },
  {
   "cell_type": "markdown",
   "id": "5d491598",
   "metadata": {
    "papermill": {
     "duration": 0.072213,
     "end_time": "2022-02-06T16:23:12.907400",
     "exception": false,
     "start_time": "2022-02-06T16:23:12.835187",
     "status": "completed"
    },
    "tags": []
   },
   "source": [
    "# Training the K-NN model on the Training set"
   ]
  },
  {
   "cell_type": "code",
   "execution_count": 25,
   "id": "47b200f5",
   "metadata": {
    "execution": {
     "iopub.execute_input": "2022-02-06T16:23:13.057641Z",
     "iopub.status.busy": "2022-02-06T16:23:13.057002Z",
     "iopub.status.idle": "2022-02-06T16:23:13.120612Z",
     "shell.execute_reply": "2022-02-06T16:23:13.120049Z",
     "shell.execute_reply.started": "2022-02-06T16:22:20.725742Z"
    },
    "papermill": {
     "duration": 0.140479,
     "end_time": "2022-02-06T16:23:13.120751",
     "exception": false,
     "start_time": "2022-02-06T16:23:12.980272",
     "status": "completed"
    },
    "tags": []
   },
   "outputs": [
    {
     "data": {
      "text/plain": [
       "KNeighborsClassifier()"
      ]
     },
     "execution_count": 25,
     "metadata": {},
     "output_type": "execute_result"
    }
   ],
   "source": [
    "from sklearn.neighbors import KNeighborsClassifier\n",
    "classifier = KNeighborsClassifier(n_neighbors = 5, metric = 'minkowski', p = 2)\n",
    "classifier.fit(X_train, y_train)"
   ]
  },
  {
   "cell_type": "code",
   "execution_count": 26,
   "id": "4c504ae4",
   "metadata": {
    "execution": {
     "iopub.execute_input": "2022-02-06T16:23:13.269230Z",
     "iopub.status.busy": "2022-02-06T16:23:13.268303Z",
     "iopub.status.idle": "2022-02-06T16:23:13.284231Z",
     "shell.execute_reply": "2022-02-06T16:23:13.284632Z",
     "shell.execute_reply.started": "2022-02-06T16:22:20.736291Z"
    },
    "papermill": {
     "duration": 0.091272,
     "end_time": "2022-02-06T16:23:13.284810",
     "exception": false,
     "start_time": "2022-02-06T16:23:13.193538",
     "status": "completed"
    },
    "tags": []
   },
   "outputs": [],
   "source": [
    "y_pred = classifier.predict(X_test)"
   ]
  },
  {
   "cell_type": "code",
   "execution_count": 27,
   "id": "5b982900",
   "metadata": {
    "execution": {
     "iopub.execute_input": "2022-02-06T16:23:13.433720Z",
     "iopub.status.busy": "2022-02-06T16:23:13.432090Z",
     "iopub.status.idle": "2022-02-06T16:23:13.436884Z",
     "shell.execute_reply": "2022-02-06T16:23:13.437572Z",
     "shell.execute_reply.started": "2022-02-06T16:22:20.755027Z"
    },
    "papermill": {
     "duration": 0.081135,
     "end_time": "2022-02-06T16:23:13.437795",
     "exception": false,
     "start_time": "2022-02-06T16:23:13.356660",
     "status": "completed"
    },
    "tags": []
   },
   "outputs": [
    {
     "name": "stdout",
     "output_type": "stream",
     "text": [
      "[[  1   1   3   0   6]\n",
      " [  1   4   5   0  21]\n",
      " [  0   3 127   0  25]\n",
      " [  0   0   3   1   2]\n",
      " [  5  17  26   0 115]]\n"
     ]
    }
   ],
   "source": [
    "cm = confusion_matrix(y_test, y_pred)\n",
    "print(cm)"
   ]
  },
  {
   "cell_type": "code",
   "execution_count": 28,
   "id": "f66f555f",
   "metadata": {
    "execution": {
     "iopub.execute_input": "2022-02-06T16:23:13.587521Z",
     "iopub.status.busy": "2022-02-06T16:23:13.586874Z",
     "iopub.status.idle": "2022-02-06T16:23:13.591325Z",
     "shell.execute_reply": "2022-02-06T16:23:13.591727Z",
     "shell.execute_reply.started": "2022-02-06T16:22:20.761699Z"
    },
    "papermill": {
     "duration": 0.08003,
     "end_time": "2022-02-06T16:23:13.591895",
     "exception": false,
     "start_time": "2022-02-06T16:23:13.511865",
     "status": "completed"
    },
    "tags": []
   },
   "outputs": [
    {
     "name": "stdout",
     "output_type": "stream",
     "text": [
      "Accuracy score: 0.6775956284153005\n"
     ]
    }
   ],
   "source": [
    "acc3 = accuracy_score(y_test, y_pred)\n",
    "print(f\"Accuracy score: {acc3}\")"
   ]
  },
  {
   "cell_type": "markdown",
   "id": "a499a2c0",
   "metadata": {
    "papermill": {
     "duration": 0.072694,
     "end_time": "2022-02-06T16:23:13.737605",
     "exception": false,
     "start_time": "2022-02-06T16:23:13.664911",
     "status": "completed"
    },
    "tags": []
   },
   "source": [
    "# Training the Naive Bayes on the Training set"
   ]
  },
  {
   "cell_type": "code",
   "execution_count": 29,
   "id": "46f6d571",
   "metadata": {
    "execution": {
     "iopub.execute_input": "2022-02-06T16:23:13.890039Z",
     "iopub.status.busy": "2022-02-06T16:23:13.889390Z",
     "iopub.status.idle": "2022-02-06T16:23:13.898178Z",
     "shell.execute_reply": "2022-02-06T16:23:13.898705Z",
     "shell.execute_reply.started": "2022-02-06T16:22:20.771043Z"
    },
    "papermill": {
     "duration": 0.088482,
     "end_time": "2022-02-06T16:23:13.898864",
     "exception": false,
     "start_time": "2022-02-06T16:23:13.810382",
     "status": "completed"
    },
    "tags": []
   },
   "outputs": [
    {
     "data": {
      "text/plain": [
       "GaussianNB()"
      ]
     },
     "execution_count": 29,
     "metadata": {},
     "output_type": "execute_result"
    }
   ],
   "source": [
    "from sklearn.naive_bayes import GaussianNB\n",
    "classifier = GaussianNB()\n",
    "classifier.fit(X_train, y_train)"
   ]
  },
  {
   "cell_type": "code",
   "execution_count": 30,
   "id": "faa0fb99",
   "metadata": {
    "execution": {
     "iopub.execute_input": "2022-02-06T16:23:14.049046Z",
     "iopub.status.busy": "2022-02-06T16:23:14.048419Z",
     "iopub.status.idle": "2022-02-06T16:23:14.051946Z",
     "shell.execute_reply": "2022-02-06T16:23:14.052465Z",
     "shell.execute_reply.started": "2022-02-06T16:22:20.783414Z"
    },
    "papermill": {
     "duration": 0.081173,
     "end_time": "2022-02-06T16:23:14.052633",
     "exception": false,
     "start_time": "2022-02-06T16:23:13.971460",
     "status": "completed"
    },
    "tags": []
   },
   "outputs": [],
   "source": [
    "y_pred = classifier.predict(X_test)"
   ]
  },
  {
   "cell_type": "code",
   "execution_count": 31,
   "id": "742a5bf4",
   "metadata": {
    "execution": {
     "iopub.execute_input": "2022-02-06T16:23:14.204053Z",
     "iopub.status.busy": "2022-02-06T16:23:14.203476Z",
     "iopub.status.idle": "2022-02-06T16:23:14.209207Z",
     "shell.execute_reply": "2022-02-06T16:23:14.209722Z",
     "shell.execute_reply.started": "2022-02-06T16:22:20.788730Z"
    },
    "papermill": {
     "duration": 0.084114,
     "end_time": "2022-02-06T16:23:14.209879",
     "exception": false,
     "start_time": "2022-02-06T16:23:14.125765",
     "status": "completed"
    },
    "tags": []
   },
   "outputs": [
    {
     "name": "stdout",
     "output_type": "stream",
     "text": [
      "[[  0   0   0   0  11]\n",
      " [  0   0   0   0  31]\n",
      " [  0   0 141   2  12]\n",
      " [  0   0   2   4   0]\n",
      " [  0   0   0   0 163]]\n"
     ]
    }
   ],
   "source": [
    "cm = confusion_matrix(y_test, y_pred)\n",
    "print(cm)"
   ]
  },
  {
   "cell_type": "code",
   "execution_count": 32,
   "id": "b1e0f32b",
   "metadata": {
    "execution": {
     "iopub.execute_input": "2022-02-06T16:23:14.359961Z",
     "iopub.status.busy": "2022-02-06T16:23:14.359427Z",
     "iopub.status.idle": "2022-02-06T16:23:14.364360Z",
     "shell.execute_reply": "2022-02-06T16:23:14.364883Z",
     "shell.execute_reply.started": "2022-02-06T16:22:20.799637Z"
    },
    "papermill": {
     "duration": 0.081812,
     "end_time": "2022-02-06T16:23:14.365070",
     "exception": false,
     "start_time": "2022-02-06T16:23:14.283258",
     "status": "completed"
    },
    "tags": []
   },
   "outputs": [
    {
     "name": "stdout",
     "output_type": "stream",
     "text": [
      "Accuracy score : 0.8415300546448088\n"
     ]
    }
   ],
   "source": [
    "acc4 = accuracy_score(y_test, y_pred)\n",
    "print(f\"Accuracy score : {acc4}\")"
   ]
  },
  {
   "cell_type": "markdown",
   "id": "b4eb4404",
   "metadata": {
    "papermill": {
     "duration": 0.074136,
     "end_time": "2022-02-06T16:23:14.512740",
     "exception": false,
     "start_time": "2022-02-06T16:23:14.438604",
     "status": "completed"
    },
    "tags": []
   },
   "source": [
    "# Training Decision Tree Classification on Train set"
   ]
  },
  {
   "cell_type": "code",
   "execution_count": 33,
   "id": "cc34c280",
   "metadata": {
    "execution": {
     "iopub.execute_input": "2022-02-06T16:23:14.663829Z",
     "iopub.status.busy": "2022-02-06T16:23:14.663277Z",
     "iopub.status.idle": "2022-02-06T16:23:14.698135Z",
     "shell.execute_reply": "2022-02-06T16:23:14.698588Z",
     "shell.execute_reply.started": "2022-02-06T16:22:20.807139Z"
    },
    "papermill": {
     "duration": 0.112136,
     "end_time": "2022-02-06T16:23:14.698754",
     "exception": false,
     "start_time": "2022-02-06T16:23:14.586618",
     "status": "completed"
    },
    "tags": []
   },
   "outputs": [
    {
     "data": {
      "text/plain": [
       "DecisionTreeClassifier(criterion='entropy', random_state=0)"
      ]
     },
     "execution_count": 33,
     "metadata": {},
     "output_type": "execute_result"
    }
   ],
   "source": [
    "from sklearn.tree import DecisionTreeClassifier\n",
    "classifier = DecisionTreeClassifier(criterion = 'entropy', random_state = 0)\n",
    "classifier.fit(X_train, y_train)"
   ]
  },
  {
   "cell_type": "code",
   "execution_count": 34,
   "id": "9e50cc62",
   "metadata": {
    "execution": {
     "iopub.execute_input": "2022-02-06T16:23:14.849674Z",
     "iopub.status.busy": "2022-02-06T16:23:14.849068Z",
     "iopub.status.idle": "2022-02-06T16:23:14.852515Z",
     "shell.execute_reply": "2022-02-06T16:23:14.852983Z",
     "shell.execute_reply.started": "2022-02-06T16:22:20.819980Z"
    },
    "papermill": {
     "duration": 0.080871,
     "end_time": "2022-02-06T16:23:14.853166",
     "exception": false,
     "start_time": "2022-02-06T16:23:14.772295",
     "status": "completed"
    },
    "tags": []
   },
   "outputs": [],
   "source": [
    "y_pred = classifier.predict(X_test)"
   ]
  },
  {
   "cell_type": "code",
   "execution_count": 35,
   "id": "3c3b09ff",
   "metadata": {
    "execution": {
     "iopub.execute_input": "2022-02-06T16:23:15.010907Z",
     "iopub.status.busy": "2022-02-06T16:23:15.010328Z",
     "iopub.status.idle": "2022-02-06T16:23:15.015310Z",
     "shell.execute_reply": "2022-02-06T16:23:15.015816Z",
     "shell.execute_reply.started": "2022-02-06T16:22:20.825956Z"
    },
    "papermill": {
     "duration": 0.084446,
     "end_time": "2022-02-06T16:23:15.015969",
     "exception": false,
     "start_time": "2022-02-06T16:23:14.931523",
     "status": "completed"
    },
    "tags": []
   },
   "outputs": [
    {
     "data": {
      "text/plain": [
       "array(['sun', 'drizzle', 'rain', 'sun', 'sun', 'rain', 'rain', 'rain',\n",
       "       'sun', 'rain', 'drizzle', 'rain', 'sun', 'fog', 'drizzle', 'sun',\n",
       "       'fog', 'rain', 'rain', 'rain', 'rain', 'rain', 'rain', 'sun',\n",
       "       'sun', 'drizzle', 'sun', 'rain', 'drizzle', 'sun', 'rain', 'sun',\n",
       "       'snow', 'rain', 'rain', 'rain', 'drizzle', 'rain', 'drizzle',\n",
       "       'rain', 'sun', 'rain', 'rain', 'rain', 'sun', 'drizzle', 'sun',\n",
       "       'sun', 'sun', 'sun', 'sun', 'sun', 'sun', 'rain', 'rain', 'sun',\n",
       "       'sun', 'snow', 'sun', 'rain', 'sun', 'sun', 'sun', 'fog', 'fog',\n",
       "       'rain', 'sun', 'fog', 'sun', 'rain', 'rain', 'snow', 'rain',\n",
       "       'drizzle', 'fog', 'sun', 'rain', 'drizzle', 'rain', 'rain', 'sun',\n",
       "       'sun', 'rain', 'rain', 'rain', 'sun', 'sun', 'rain', 'sun', 'rain',\n",
       "       'sun', 'fog', 'rain', 'fog', 'rain', 'snow', 'sun', 'drizzle',\n",
       "       'sun', 'sun', 'rain', 'rain', 'sun', 'rain', 'rain', 'rain',\n",
       "       'rain', 'rain', 'sun', 'sun', 'rain', 'sun', 'rain', 'sun', 'sun',\n",
       "       'sun', 'sun', 'sun', 'rain', 'rain', 'sun', 'rain', 'rain', 'fog',\n",
       "       'rain', 'sun', 'sun', 'drizzle', 'sun', 'rain', 'sun', 'rain',\n",
       "       'sun', 'rain', 'rain', 'rain', 'rain', 'sun', 'sun', 'sun', 'rain',\n",
       "       'snow', 'sun', 'sun', 'sun', 'rain', 'rain', 'sun', 'sun', 'sun',\n",
       "       'sun', 'fog', 'sun', 'rain', 'fog', 'rain', 'drizzle', 'sun',\n",
       "       'rain', 'sun', 'sun', 'drizzle', 'rain', 'fog', 'rain', 'rain',\n",
       "       'sun', 'rain', 'rain', 'rain', 'fog', 'fog', 'rain', 'sun', 'rain',\n",
       "       'rain', 'sun', 'sun', 'sun', 'sun', 'sun', 'sun', 'rain', 'fog',\n",
       "       'rain', 'fog', 'sun', 'rain', 'rain', 'sun', 'sun', 'sun', 'fog',\n",
       "       'sun', 'rain', 'rain', 'sun', 'drizzle', 'rain', 'sun', 'rain',\n",
       "       'rain', 'fog', 'sun', 'rain', 'rain', 'rain', 'sun', 'fog', 'fog',\n",
       "       'snow', 'rain', 'rain', 'rain', 'fog', 'sun', 'fog', 'rain',\n",
       "       'rain', 'rain', 'fog', 'sun', 'sun', 'rain', 'sun', 'sun', 'rain',\n",
       "       'sun', 'rain', 'drizzle', 'drizzle', 'rain', 'rain', 'rain',\n",
       "       'rain', 'fog', 'rain', 'sun', 'rain', 'rain', 'sun', 'rain', 'sun',\n",
       "       'rain', 'rain', 'drizzle', 'rain', 'sun', 'drizzle', 'sun', 'sun',\n",
       "       'sun', 'rain', 'snow', 'sun', 'sun', 'sun', 'sun', 'sun', 'sun',\n",
       "       'rain', 'fog', 'sun', 'sun', 'fog', 'rain', 'sun', 'rain', 'sun',\n",
       "       'fog', 'sun', 'sun', 'rain', 'rain', 'drizzle', 'fog', 'rain',\n",
       "       'sun', 'rain', 'sun', 'rain', 'rain', 'rain', 'drizzle', 'drizzle',\n",
       "       'sun', 'rain', 'sun', 'rain', 'rain', 'fog', 'rain', 'sun', 'rain',\n",
       "       'fog', 'rain', 'rain', 'sun', 'rain', 'sun', 'rain', 'sun', 'sun',\n",
       "       'sun', 'rain', 'sun', 'sun', 'rain', 'rain', 'sun', 'rain',\n",
       "       'drizzle', 'rain', 'rain', 'sun', 'fog', 'rain', 'rain', 'rain',\n",
       "       'drizzle', 'rain', 'fog', 'rain', 'rain', 'sun', 'sun', 'rain',\n",
       "       'rain', 'rain', 'sun', 'sun', 'rain', 'drizzle', 'sun', 'rain',\n",
       "       'sun', 'sun', 'sun', 'rain', 'rain', 'sun', 'sun', 'sun', 'rain',\n",
       "       'sun', 'sun', 'rain', 'rain', 'fog', 'rain', 'sun', 'sun', 'sun',\n",
       "       'sun', 'rain', 'sun', 'sun', 'rain', 'sun', 'sun', 'sun', 'rain',\n",
       "       'fog', 'rain', 'rain', 'sun'], dtype=object)"
      ]
     },
     "execution_count": 35,
     "metadata": {},
     "output_type": "execute_result"
    }
   ],
   "source": [
    "y_pred"
   ]
  },
  {
   "cell_type": "code",
   "execution_count": 36,
   "id": "db385cee",
   "metadata": {
    "execution": {
     "iopub.execute_input": "2022-02-06T16:23:15.169294Z",
     "iopub.status.busy": "2022-02-06T16:23:15.168687Z",
     "iopub.status.idle": "2022-02-06T16:23:15.174711Z",
     "shell.execute_reply": "2022-02-06T16:23:15.174248Z",
     "shell.execute_reply.started": "2022-02-06T16:22:20.835171Z"
    },
    "papermill": {
     "duration": 0.084225,
     "end_time": "2022-02-06T16:23:15.174838",
     "exception": false,
     "start_time": "2022-02-06T16:23:15.090613",
     "status": "completed"
    },
    "tags": []
   },
   "outputs": [
    {
     "name": "stdout",
     "output_type": "stream",
     "text": [
      "[[  1   2   1   0   7]\n",
      " [  6   8   1   0  16]\n",
      " [  0   1 140   4  10]\n",
      " [  0   0   3   3   0]\n",
      " [ 18  23   9   0 113]]\n"
     ]
    }
   ],
   "source": [
    "cm = confusion_matrix(y_test, y_pred)\n",
    "print(cm)"
   ]
  },
  {
   "cell_type": "code",
   "execution_count": 37,
   "id": "932b0a57",
   "metadata": {
    "execution": {
     "iopub.execute_input": "2022-02-06T16:23:15.327721Z",
     "iopub.status.busy": "2022-02-06T16:23:15.327160Z",
     "iopub.status.idle": "2022-02-06T16:23:15.801580Z",
     "shell.execute_reply": "2022-02-06T16:23:15.801995Z",
     "shell.execute_reply.started": "2022-02-06T16:22:20.844666Z"
    },
    "papermill": {
     "duration": 0.552422,
     "end_time": "2022-02-06T16:23:15.802210",
     "exception": false,
     "start_time": "2022-02-06T16:23:15.249788",
     "status": "completed"
    },
    "tags": []
   },
   "outputs": [
    {
     "data": {
      "text/plain": [
       "<AxesSubplot:>"
      ]
     },
     "execution_count": 37,
     "metadata": {},
     "output_type": "execute_result"
    },
    {
     "data": {
      "image/png": "[encoded data removed]",
      "text/plain": [
       "<Figure size 432x288 with 2 Axes>"
      ]
     },
     "metadata": {},
     "output_type": "display_data"
    }
   ],
   "source": [
    "sns.heatmap(cm,annot=True)"
   ]
  },
  {
   "cell_type": "code",
   "execution_count": 38,
   "id": "5b1fe606",
   "metadata": {
    "execution": {
     "iopub.execute_input": "2022-02-06T16:23:15.958811Z",
     "iopub.status.busy": "2022-02-06T16:23:15.958248Z",
     "iopub.status.idle": "2022-02-06T16:23:15.962622Z",
     "shell.execute_reply": "2022-02-06T16:23:15.963137Z",
     "shell.execute_reply.started": "2022-02-06T16:22:21.156752Z"
    },
    "papermill": {
     "duration": 0.086094,
     "end_time": "2022-02-06T16:23:15.963304",
     "exception": false,
     "start_time": "2022-02-06T16:23:15.877210",
     "status": "completed"
    },
    "tags": []
   },
   "outputs": [
    {
     "name": "stdout",
     "output_type": "stream",
     "text": [
      "Accuracy score: 0.7240437158469946\n"
     ]
    }
   ],
   "source": [
    "acc5 = accuracy_score(y_test, y_pred)\n",
    "print(f\"Accuracy score: {acc5}\")"
   ]
  },
  {
   "cell_type": "markdown",
   "id": "8321fcbc",
   "metadata": {
    "papermill": {
     "duration": 0.07808,
     "end_time": "2022-02-06T16:23:16.117225",
     "exception": false,
     "start_time": "2022-02-06T16:23:16.039145",
     "status": "completed"
    },
    "tags": []
   },
   "source": [
    "# Random Forest Classifier"
   ]
  },
  {
   "cell_type": "code",
   "execution_count": 39,
   "id": "3e2a349d",
   "metadata": {
    "execution": {
     "iopub.execute_input": "2022-02-06T16:23:16.276161Z",
     "iopub.status.busy": "2022-02-06T16:23:16.275448Z",
     "iopub.status.idle": "2022-02-06T16:23:16.395415Z",
     "shell.execute_reply": "2022-02-06T16:23:16.394897Z",
     "shell.execute_reply.started": "2022-02-06T16:22:21.163490Z"
    },
    "papermill": {
     "duration": 0.199169,
     "end_time": "2022-02-06T16:23:16.395562",
     "exception": false,
     "start_time": "2022-02-06T16:23:16.196393",
     "status": "completed"
    },
    "tags": []
   },
   "outputs": [],
   "source": [
    "from sklearn.ensemble import RandomForestClassifier\n",
    "forest= RandomForestClassifier(n_estimators =40, random_state = 0)\n",
    "forest.fit(X_train,y_train)\n",
    "RandomForestClassifier(n_estimators=40, random_state=0)\n",
    "y_pred = forest.predict(X_test)\n",
    "cm = confusion_matrix(y_test,y_pred)"
   ]
  },
  {
   "cell_type": "code",
   "execution_count": 40,
   "id": "7676378e",
   "metadata": {
    "execution": {
     "iopub.execute_input": "2022-02-06T16:23:16.550793Z",
     "iopub.status.busy": "2022-02-06T16:23:16.550220Z",
     "iopub.status.idle": "2022-02-06T16:23:16.861563Z",
     "shell.execute_reply": "2022-02-06T16:23:16.862044Z",
     "shell.execute_reply.started": "2022-02-06T16:22:21.258928Z"
    },
    "papermill": {
     "duration": 0.39132,
     "end_time": "2022-02-06T16:23:16.862221",
     "exception": false,
     "start_time": "2022-02-06T16:23:16.470901",
     "status": "completed"
    },
    "tags": []
   },
   "outputs": [
    {
     "data": {
      "text/plain": [
       "<AxesSubplot:>"
      ]
     },
     "execution_count": 40,
     "metadata": {},
     "output_type": "execute_result"
    },
    {
     "data": {
      "image/png": "[encoded data removed]",
      "text/plain": [
       "<Figure size 432x288 with 2 Axes>"
      ]
     },
     "metadata": {},
     "output_type": "display_data"
    }
   ],
   "source": [
    "sns.heatmap(cm,annot=True)"
   ]
  },
  {
   "cell_type": "code",
   "execution_count": 41,
   "id": "4070181e",
   "metadata": {
    "execution": {
     "iopub.execute_input": "2022-02-06T16:23:17.102506Z",
     "iopub.status.busy": "2022-02-06T16:23:17.101835Z",
     "iopub.status.idle": "2022-02-06T16:23:17.109447Z",
     "shell.execute_reply": "2022-02-06T16:23:17.109910Z",
     "shell.execute_reply.started": "2022-02-06T16:22:21.571746Z"
    },
    "papermill": {
     "duration": 0.171391,
     "end_time": "2022-02-06T16:23:17.110131",
     "exception": false,
     "start_time": "2022-02-06T16:23:16.938740",
     "status": "completed"
    },
    "tags": []
   },
   "outputs": [
    {
     "name": "stdout",
     "output_type": "stream",
     "text": [
      "              precision    recall  f1-score   support\n",
      "\n",
      "     drizzle       0.00      0.00      0.00        11\n",
      "         fog       0.25      0.13      0.17        31\n",
      "        rain       0.95      0.93      0.94       155\n",
      "        snow       1.00      0.17      0.29         6\n",
      "         sun       0.75      0.87      0.81       163\n",
      "\n",
      "    accuracy                           0.80       366\n",
      "   macro avg       0.59      0.42      0.44       366\n",
      "weighted avg       0.77      0.80      0.78       366\n",
      "\n"
     ]
    }
   ],
   "source": [
    "from sklearn.metrics import classification_report\n",
    "print(classification_report(y_test,y_pred))"
   ]
  },
  {
   "cell_type": "code",
   "execution_count": 42,
   "id": "720b3833",
   "metadata": {
    "execution": {
     "iopub.execute_input": "2022-02-06T16:23:17.269690Z",
     "iopub.status.busy": "2022-02-06T16:23:17.268752Z",
     "iopub.status.idle": "2022-02-06T16:23:17.281769Z",
     "shell.execute_reply": "2022-02-06T16:23:17.282407Z",
     "shell.execute_reply.started": "2022-02-06T16:22:21.584005Z"
    },
    "papermill": {
     "duration": 0.09394,
     "end_time": "2022-02-06T16:23:17.282639",
     "exception": false,
     "start_time": "2022-02-06T16:23:17.188699",
     "status": "completed"
    },
    "tags": []
   },
   "outputs": [
    {
     "name": "stdout",
     "output_type": "stream",
     "text": [
      "0.7950819672131147\n"
     ]
    }
   ],
   "source": [
    "acc6 = forest.score(X_test,y_test)\n",
    "print(acc6)"
   ]
  },
  {
   "cell_type": "markdown",
   "id": "e70f0ddc",
   "metadata": {
    "papermill": {
     "duration": 0.078296,
     "end_time": "2022-02-06T16:23:19.015103",
     "exception": false,
     "start_time": "2022-02-06T16:23:18.936807",
     "status": "completed"
    },
    "tags": []
   },
   "source": [
    "# Create visualization for all model with their Accuracy"
   ]
  },
  {
   "cell_type": "code",
   "execution_count": 44,
   "id": "5976fe60",
   "metadata": {
    "execution": {
     "iopub.execute_input": "2022-02-06T16:23:19.179152Z",
     "iopub.status.busy": "2022-02-06T16:23:19.178537Z",
     "iopub.status.idle": "2022-02-06T16:23:19.483497Z",
     "shell.execute_reply": "2022-02-06T16:23:19.483918Z",
     "shell.execute_reply.started": "2022-02-06T16:22:22.241401Z"
    },
    "papermill": {
     "duration": 0.387311,
     "end_time": "2022-02-06T16:23:19.484108",
     "exception": false,
     "start_time": "2022-02-06T16:23:19.096797",
     "status": "completed"
    },
    "tags": []
   },
   "outputs": [
    {
     "data": {
      "image/png": "[encoded data removed]",
      "text/plain": [
       "<Figure size 1584x576 with 1 Axes>"
      ]
     },
     "metadata": {},
     "output_type": "display_data"
    }
   ],
   "source": [
    "mylist=[]\n",
    "mylist2=[]\n",
    "mylist.append(acc1)\n",
    "mylist2.append(\"Logistic Regression\")\n",
    "\n",
    "mylist.append(acc3)\n",
    "mylist2.append(\"KNN\")\n",
    "mylist.append(acc4)\n",
    "mylist2.append(\"Naive Bayes\")\n",
    "mylist.append(acc5)\n",
    "mylist2.append(\"DTR\")\n",
    "mylist.append(acc6)\n",
    "mylist2.append(\"RF\")\n",
    "plt.rcParams['figure.figsize']=8,6\n",
    "sns.set_style(\"darkgrid\")\n",
    "plt.figure(figsize=(22,8))\n",
    "ax = sns.barplot(x=mylist2, y=mylist, palette = \"mako\", saturation =1.5)\n",
    "plt.xlabel(\"Classification Models\", fontsize = 20 )\n",
    "plt.ylabel(\"Accuracy\", fontsize = 20)\n",
    "plt.title(\"Accuracy of different Classification Models\", fontsize = 20)\n",
    "plt.xticks(fontsize = 11, horizontalalignment = 'center', rotation = 8)\n",
    "plt.yticks(fontsize = 13)\n",
    "for p in ax.patches:\n",
    "    width, height = p.get_width(), p.get_height()\n",
    "    x, y = p.get_xy() \n",
    "    ax.annotate(f'{height:.2%}', (x + width/2, y + height*1.02), ha='center', fontsize = 'x-large')\n",
    "plt.show()"
   ]
  }
 ],
 "metadata": {
  "kernelspec": {
   "display_name": "base",
   "language": "python",
   "name": "python3"
  },
  "language_info": {
   "codemirror_mode": {
    "name": "ipython",
    "version": 3
   },
   "file_extension": ".py",
   "mimetype": "text/x-python",
   "name": "python",
   "nbconvert_exporter": "python",
   "pygments_lexer": "ipython3",
   "version": "3.8.5"
  },
  "papermill": {
   "default_parameters": {},
   "duration": 31.684139,
   "end_time": "2022-02-06T16:23:20.274130",
   "environment_variables": {},
   "exception": null,
   "input_path": "__notebook__.ipynb",
   "output_path": "__notebook__.ipynb",
   "parameters": {},
   "start_time": "2022-02-06T16:22:48.589991",
   "version": "2.3.3"
  },
  "vscode": {
   "interpreter": {
    "hash": "0e1ba2cb90b67bcd353428316e85ecb688f2d197b359f390a2231e0f2efc1e69"
   }
  }
 },
 "nbformat": 4,
 "nbformat_minor": 5
}
